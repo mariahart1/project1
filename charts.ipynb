{
 "cells": [
  {
   "cell_type": "code",
   "execution_count": 1,
   "metadata": {},
   "outputs": [],
   "source": [
    "# Dependencies\n",
    "import pandas as pd\n",
    "import matplotlib.pyplot as plt\n",
    "import numpy as np\n",
    "import scipy.stats as st"
   ]
  },
  {
   "cell_type": "code",
   "execution_count": 2,
   "metadata": {},
   "outputs": [
    {
     "data": {
      "text/html": [
       "<div>\n",
       "<style scoped>\n",
       "    .dataframe tbody tr th:only-of-type {\n",
       "        vertical-align: middle;\n",
       "    }\n",
       "\n",
       "    .dataframe tbody tr th {\n",
       "        vertical-align: top;\n",
       "    }\n",
       "\n",
       "    .dataframe thead th {\n",
       "        text-align: right;\n",
       "    }\n",
       "</style>\n",
       "<table border=\"1\" class=\"dataframe\">\n",
       "  <thead>\n",
       "    <tr style=\"text-align: right;\">\n",
       "      <th></th>\n",
       "      <th>City</th>\n",
       "      <th>Housing</th>\n",
       "      <th>Cost of Living</th>\n",
       "      <th>Startups</th>\n",
       "      <th>Venture Capital</th>\n",
       "      <th>Travel Connectivity</th>\n",
       "      <th>Commute</th>\n",
       "      <th>Business Freedom</th>\n",
       "      <th>Safety</th>\n",
       "      <th>Healthcare</th>\n",
       "      <th>Education</th>\n",
       "      <th>Environmental Quality</th>\n",
       "      <th>Economy</th>\n",
       "      <th>Taxation</th>\n",
       "      <th>Internet Access</th>\n",
       "    </tr>\n",
       "  </thead>\n",
       "  <tbody>\n",
       "    <tr>\n",
       "      <th>0</th>\n",
       "      <td>Chicago, IL</td>\n",
       "      <td>3.7020</td>\n",
       "      <td>4.766</td>\n",
       "      <td>9.513</td>\n",
       "      <td>8.368</td>\n",
       "      <td>5.5075</td>\n",
       "      <td>4.57975</td>\n",
       "      <td>8.671</td>\n",
       "      <td>3.8320</td>\n",
       "      <td>8.555000</td>\n",
       "      <td>7.9990</td>\n",
       "      <td>6.80450</td>\n",
       "      <td>6.5145</td>\n",
       "      <td>4.062</td>\n",
       "      <td>6.5995</td>\n",
       "    </tr>\n",
       "    <tr>\n",
       "      <th>1</th>\n",
       "      <td>St Louis, MO</td>\n",
       "      <td>6.9580</td>\n",
       "      <td>5.504</td>\n",
       "      <td>5.424</td>\n",
       "      <td>3.885</td>\n",
       "      <td>2.5315</td>\n",
       "      <td>5.08550</td>\n",
       "      <td>8.671</td>\n",
       "      <td>3.8805</td>\n",
       "      <td>8.877333</td>\n",
       "      <td>5.2715</td>\n",
       "      <td>7.37425</td>\n",
       "      <td>6.5145</td>\n",
       "      <td>4.062</td>\n",
       "      <td>8.9090</td>\n",
       "    </tr>\n",
       "    <tr>\n",
       "      <th>2</th>\n",
       "      <td>Boston, MA</td>\n",
       "      <td>1.0000</td>\n",
       "      <td>4.259</td>\n",
       "      <td>9.565</td>\n",
       "      <td>10.000</td>\n",
       "      <td>3.2150</td>\n",
       "      <td>4.39625</td>\n",
       "      <td>8.671</td>\n",
       "      <td>7.7420</td>\n",
       "      <td>8.956000</td>\n",
       "      <td>8.6245</td>\n",
       "      <td>8.17050</td>\n",
       "      <td>6.5145</td>\n",
       "      <td>4.062</td>\n",
       "      <td>5.7005</td>\n",
       "    </tr>\n",
       "    <tr>\n",
       "      <th>3</th>\n",
       "      <td>Austin, TX</td>\n",
       "      <td>4.3345</td>\n",
       "      <td>5.355</td>\n",
       "      <td>9.236</td>\n",
       "      <td>6.939</td>\n",
       "      <td>1.8515</td>\n",
       "      <td>4.33050</td>\n",
       "      <td>8.671</td>\n",
       "      <td>5.0690</td>\n",
       "      <td>8.686667</td>\n",
       "      <td>5.3150</td>\n",
       "      <td>7.03075</td>\n",
       "      <td>6.5145</td>\n",
       "      <td>4.772</td>\n",
       "      <td>9.0490</td>\n",
       "    </tr>\n",
       "    <tr>\n",
       "      <th>4</th>\n",
       "      <td>Seattle, WA</td>\n",
       "      <td>2.2910</td>\n",
       "      <td>3.790</td>\n",
       "      <td>8.367</td>\n",
       "      <td>7.551</td>\n",
       "      <td>2.8845</td>\n",
       "      <td>4.52375</td>\n",
       "      <td>8.671</td>\n",
       "      <td>5.6365</td>\n",
       "      <td>8.724333</td>\n",
       "      <td>5.7145</td>\n",
       "      <td>7.56025</td>\n",
       "      <td>6.5145</td>\n",
       "      <td>4.772</td>\n",
       "      <td>4.9405</td>\n",
       "    </tr>\n",
       "  </tbody>\n",
       "</table>\n",
       "</div>"
      ],
      "text/plain": [
       "           City  Housing  Cost of Living  Startups  Venture Capital  \\\n",
       "0   Chicago, IL   3.7020           4.766     9.513            8.368   \n",
       "1  St Louis, MO   6.9580           5.504     5.424            3.885   \n",
       "2    Boston, MA   1.0000           4.259     9.565           10.000   \n",
       "3    Austin, TX   4.3345           5.355     9.236            6.939   \n",
       "4   Seattle, WA   2.2910           3.790     8.367            7.551   \n",
       "\n",
       "   Travel Connectivity  Commute  Business Freedom  Safety  Healthcare  \\\n",
       "0               5.5075  4.57975             8.671  3.8320    8.555000   \n",
       "1               2.5315  5.08550             8.671  3.8805    8.877333   \n",
       "2               3.2150  4.39625             8.671  7.7420    8.956000   \n",
       "3               1.8515  4.33050             8.671  5.0690    8.686667   \n",
       "4               2.8845  4.52375             8.671  5.6365    8.724333   \n",
       "\n",
       "   Education  Environmental Quality  Economy  Taxation  Internet Access  \n",
       "0     7.9990                6.80450   6.5145     4.062           6.5995  \n",
       "1     5.2715                7.37425   6.5145     4.062           8.9090  \n",
       "2     8.6245                8.17050   6.5145     4.062           5.7005  \n",
       "3     5.3150                7.03075   6.5145     4.772           9.0490  \n",
       "4     5.7145                7.56025   6.5145     4.772           4.9405  "
      ]
     },
     "execution_count": 2,
     "metadata": {},
     "output_type": "execute_result"
    }
   ],
   "source": [
    "# Read in the city scores data set\n",
    "city_scores = pd.read_csv('../project1/city_scores.csv')\n",
    "city_scores.head()"
   ]
  },
  {
   "cell_type": "code",
   "execution_count": 3,
   "metadata": {},
   "outputs": [
    {
     "data": {
      "text/plain": [
       "([<matplotlib.axis.XTick at 0x1d8b2cbd0a0>,\n",
       "  <matplotlib.axis.XTick at 0x1d8b2cbd070>,\n",
       "  <matplotlib.axis.XTick at 0x1d8ad9838e0>,\n",
       "  <matplotlib.axis.XTick at 0x1d8b33db370>,\n",
       "  <matplotlib.axis.XTick at 0x1d8b33dbac0>,\n",
       "  <matplotlib.axis.XTick at 0x1d8b33dbd90>,\n",
       "  <matplotlib.axis.XTick at 0x1d8b33e23a0>,\n",
       "  <matplotlib.axis.XTick at 0x1d8b33e2a30>,\n",
       "  <matplotlib.axis.XTick at 0x1d8b33e91c0>,\n",
       "  <matplotlib.axis.XTick at 0x1d8b33e9910>,\n",
       "  <matplotlib.axis.XTick at 0x1d8b33ed0a0>,\n",
       "  <matplotlib.axis.XTick at 0x1d8b33ed7f0>,\n",
       "  <matplotlib.axis.XTick at 0x1d8b33e96a0>,\n",
       "  <matplotlib.axis.XTick at 0x1d8b33db2e0>,\n",
       "  <matplotlib.axis.XTick at 0x1d8b33edd00>,\n",
       "  <matplotlib.axis.XTick at 0x1d8b33f8490>,\n",
       "  <matplotlib.axis.XTick at 0x1d8b33f8be0>,\n",
       "  <matplotlib.axis.XTick at 0x1d8b33ff370>,\n",
       "  <matplotlib.axis.XTick at 0x1d8b33f8eb0>,\n",
       "  <matplotlib.axis.XTick at 0x1d8b33eddf0>],\n",
       " [Text(0, 0, 'Chicago, IL'),\n",
       "  Text(1, 0, 'St Louis, MO'),\n",
       "  Text(2, 0, 'Boston, MA'),\n",
       "  Text(3, 0, 'Austin, TX'),\n",
       "  Text(4, 0, 'Seattle, WA'),\n",
       "  Text(5, 0, 'Los Angeles, CA'),\n",
       "  Text(6, 0, 'Las Vegas, NV'),\n",
       "  Text(7, 0, 'Denver, CO'),\n",
       "  Text(8, 0, 'Philadelphia, PA'),\n",
       "  Text(9, 0, 'Honolulu, HI'),\n",
       "  Text(10, 0, 'Nashville, TN'),\n",
       "  Text(11, 0, 'Miami, FL'),\n",
       "  Text(12, 0, 'New Orleans, LA'),\n",
       "  Text(13, 0, 'Raleigh, NC'),\n",
       "  Text(14, 0, 'Minneapolis, MN'),\n",
       "  Text(15, 0, 'Detroit, MI'),\n",
       "  Text(16, 0, 'Phoenix, AZ'),\n",
       "  Text(17, 0, 'San Diego, CA'),\n",
       "  Text(18, 0, 'New York City, NY'),\n",
       "  Text(19, 0, 'Washington, DC')])"
      ]
     },
     "execution_count": 3,
     "metadata": {},
     "output_type": "execute_result"
    },
    {
     "data": {
      "image/png": "[encoded data removed]",
      "text/plain": [
       "<Figure size 1440x720 with 1 Axes>"
      ]
     },
     "metadata": {
      "needs_background": "light"
     },
     "output_type": "display_data"
    }
   ],
   "source": [
    "# Chart!\n",
    "x_axis = np.arange(len(city_scores))\n",
    "tick_locations = [value for value in x_axis]\n",
    "plt.figure(figsize=(20,10))\n",
    "\n",
    "plt.bar(city_scores['City'],city_scores['Environmental Quality'],align=\"center\")\n",
    "plt.xlabel('City')\n",
    "plt.ylabel('Environmental Quality')\n",
    "plt.xticks(tick_locations, city_scores[\"City\"], rotation=\"vertical\")\n",
    "plt.show()"
   ]
  },
  {
   "cell_type": "code",
   "execution_count": 4,
   "metadata": {},
   "outputs": [
    {
     "data": {
      "text/plain": [
       "<Figure size 432x288 with 0 Axes>"
      ]
     },
     "metadata": {},
     "output_type": "display_data"
    }
   ],
   "source": [
    "# Save an image of the chart and print it to the screen\n",
    "plt.savefig(\"EnvironmentalQuality.png\")\n",
    "plt.show()"
   ]
  }
 ],
 "metadata": {
  "kernelspec": {
   "display_name": "Python 3.9.12 ('base')",
   "language": "python",
   "name": "python3"
  },
  "language_info": {
   "codemirror_mode": {
    "name": "ipython",
    "version": 3
   },
   "file_extension": ".py",
   "mimetype": "text/x-python",
   "name": "python",
   "nbconvert_exporter": "python",
   "pygments_lexer": "ipython3",
   "version": "3.9.12"
  },
  "orig_nbformat": 4,
  "vscode": {
   "interpreter": {
    "hash": "ca02d05c83cb06a4d3d1bb3c2ad95bd9ee4b26f688526444572dc942a69d580d"
   }
  }
 },
 "nbformat": 4,
 "nbformat_minor": 2
}
